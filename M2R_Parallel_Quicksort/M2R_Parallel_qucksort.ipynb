{
 "cells": [
  {
   "cell_type": "code",
   "execution_count": 52,
   "id": "initial_id",
   "metadata": {},
   "outputs": [
    {
     "name": "stdout",
     "output_type": "stream",
     "text": [
      "The rpy2.ipython extension is already loaded. To reload it, use:\n",
      "  %reload_ext rpy2.ipython\n"
     ]
    },
    {
     "ename": "NameError",
     "evalue": "name 'library' is not defined",
     "output_type": "error",
     "traceback": [
      "\u001b[0;31m---------------------------------------------------------------------------\u001b[0m",
      "\u001b[0;31mNameError\u001b[0m                                 Traceback (most recent call last)",
      "Cell \u001b[0;32mIn[52], line 2\u001b[0m\n\u001b[1;32m      1\u001b[0m get_ipython()\u001b[38;5;241m.\u001b[39mrun_line_magic(\u001b[38;5;124m'\u001b[39m\u001b[38;5;124mload_ext\u001b[39m\u001b[38;5;124m'\u001b[39m, \u001b[38;5;124m'\u001b[39m\u001b[38;5;124mrpy2.ipython\u001b[39m\u001b[38;5;124m'\u001b[39m)\n\u001b[0;32m----> 2\u001b[0m \u001b[43mlibrary\u001b[49m(sqldf)\n",
      "\u001b[0;31mNameError\u001b[0m: name 'library' is not defined"
     ]
    }
   ],
   "source": [
    "%load_ext rpy2.ipython\n",
    "\n",
    "\n"
   ]
  },
  {
   "cell_type": "markdown",
   "id": "96938967c7304414",
   "metadata": {},
   "source": [
    "---\n",
    "title: \"M2R_Parallel_Quicksort\"\n",
    "output: html_notebook\n",
    "---\n",
    "# Task 1: Compute confidence intervals for the data from M2R Parallel quicksort experiment\n",
    "\n",
    "Data is contained in \"measurements_03_47.csv\"\n",
    "First we read the data:"
   ]
  },
  {
   "cell_type": "code",
   "execution_count": null,
   "id": "5e141c1c-edb8-4f1d-bc09-4a50bc723e63",
   "metadata": {},
   "outputs": [],
   "source": [
    "%%R \n",
    "\n",
    "data <- read.csv(\"measurements_03_47.csv\")\n",
    "\n"
   ]
  },
  {
   "cell_type": "markdown",
   "id": "c2d53fff-0fd4-4897-8c5f-515448dbcb0f",
   "metadata": {},
   "source": [
    "Then we group the data in new tables, by the experiment types sequential, parallel, and built-in."
   ]
  },
  {
   "cell_type": "code",
   "execution_count": 74,
   "id": "5ee1b26f6f56f396",
   "metadata": {},
   "outputs": [],
   "source": [
    "%%R\n",
    "data_sequential = data[c(TRUE,FALSE, FALSE), ] \n",
    "data_parallel = data[c(FALSE,TRUE,FALSE), ]\n",
    "data_built_in = data[c(FALSE, FALSE, TRUE), ]\n",
    "\n"
   ]
  },
  {
   "cell_type": "markdown",
   "id": "d8895e4b-42ce-4433-8e71-d68e7e239502",
   "metadata": {},
   "source": [
    "Let's compute confidence intervals for the mean time for the different sizes:\n",
    "1. for each size\\\n",
    "compute the sample mean time $S_{5} = \\frac{1}{5} \\times \\sum_{i=1}^{n} X_i$\\\n",
    "compute the 95% confidence interval = $[\\mu - 2 \\times \\frac{\\sigma}{\\sqrt{n}} , \\mu + 2 \\times \\frac{\\sigma}{\\sqrt{n}} ] $\n",
    "   "
   ]
  },
  {
   "cell_type": "code",
   "execution_count": 92,
   "id": "b289d68e-00bf-4ce3-b922-e56401f243dc",
   "metadata": {},
   "outputs": [
    {
     "name": "stdout",
     "output_type": "stream",
     "text": [
      "# A tibble: 5 × 2\n",
      "     Size       S_5\n",
      "    <int>     <dbl>\n",
      "1     100 0.0000098\n",
      "2    1000 0.000128 \n",
      "3   10000 0.00170  \n",
      "4  100000 0.0199   \n",
      "5 1000000 0.234    \n"
     ]
    }
   ],
   "source": [
    "%%R\n",
    "data_sequential %>% group_by(Size) %>% summarize(S_5 = sum(Time)/5) \n"
   ]
  },
  {
   "cell_type": "code",
   "execution_count": null,
   "id": "c3bc261af6236007",
   "metadata": {},
   "outputs": [],
   "source": []
  },
  {
   "cell_type": "code",
   "execution_count": null,
   "id": "f5a66b89-bfc4-463a-b4ca-c62c4dfad2c2",
   "metadata": {},
   "outputs": [],
   "source": []
  }
 ],
 "metadata": {
  "kernelspec": {
   "display_name": "Python 3 (ipykernel)",
   "language": "python",
   "name": "python3"
  },
  "language_info": {
   "codemirror_mode": {
    "name": "ipython",
    "version": 3
   },
   "file_extension": ".py",
   "mimetype": "text/x-python",
   "name": "python",
   "nbconvert_exporter": "python",
   "pygments_lexer": "ipython3",
   "version": "3.12.7"
  }
 },
 "nbformat": 4,
 "nbformat_minor": 5
}
