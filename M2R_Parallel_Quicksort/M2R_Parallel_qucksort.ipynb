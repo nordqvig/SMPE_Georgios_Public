{
 "cells": [
  {
   "cell_type": "code",
   "execution_count": 2,
   "id": "initial_id",
   "metadata": {},
   "outputs": [],
   "source": [
    "%load_ext rpy2.ipython"
   ]
  },
  {
   "cell_type": "markdown",
   "id": "96938967c7304414",
   "metadata": {},
   "source": [
    "---\n",
    "title: \"M2R_Parallel_Quicksort\"\n",
    "output: html_notebook\n",
    "---\n",
    "# Task 1: Compute confidence intervals for the data from M2R Parallel quicksort experiment\n",
    "\n",
    "Data is contained in \"measurements_03_47.csv\"\n",
    "First we read the data:"
   ]
  },
  {
   "cell_type": "code",
   "execution_count": 14,
   "id": "5e141c1c-edb8-4f1d-bc09-4a50bc723e63",
   "metadata": {},
   "outputs": [],
   "source": [
    "%%R \n",
    "\n",
    "data <- read.csv(\"measurements_03_47.csv\")\n",
    "\n"
   ]
  },
  {
   "cell_type": "markdown",
   "id": "c2d53fff-0fd4-4897-8c5f-515448dbcb0f",
   "metadata": {},
   "source": [
    "Then we group the data in new tables, by the experiment types sequential, parallel, and built-in."
   ]
  },
  {
   "cell_type": "code",
   "execution_count": 15,
   "id": "5ee1b26f6f56f396",
   "metadata": {},
   "outputs": [
    {
     "name": "stdout",
     "output_type": "stream",
     "text": [
      "      Size        Type     Time\n",
      "1      100  Sequential 0.000010\n",
      "2      100    Parallel 0.004024\n",
      "3      100    Built-in 0.000013\n",
      "4      100  Sequential 0.000010\n",
      "5      100    Parallel 0.004448\n",
      "6      100    Built-in 0.000014\n",
      "7      100  Sequential 0.000009\n",
      "8      100    Parallel 0.003384\n",
      "9      100    Built-in 0.000013\n",
      "10     100  Sequential 0.000010\n",
      "11     100    Parallel 0.003738\n",
      "12     100    Built-in 0.000012\n",
      "13     100  Sequential 0.000010\n",
      "14     100    Parallel 0.003133\n",
      "15     100    Built-in 0.000011\n",
      "16    1000  Sequential 0.000128\n",
      "17    1000    Parallel 0.020407\n",
      "18    1000    Built-in 0.000209\n",
      "19    1000  Sequential 0.000126\n",
      "20    1000    Parallel 0.022003\n",
      "21    1000    Built-in 0.000201\n",
      "22    1000  Sequential 0.000128\n",
      "23    1000    Parallel 0.016149\n",
      "24    1000    Built-in 0.000210\n",
      "25    1000  Sequential 0.000128\n",
      "26    1000    Parallel 0.014594\n",
      "27    1000    Built-in 0.000209\n",
      "28    1000  Sequential 0.000129\n",
      "29    1000    Parallel 0.014905\n",
      "30    1000    Built-in 0.000210\n",
      "31   10000  Sequential 0.001774\n",
      "32   10000    Parallel 0.018943\n",
      "33   10000    Built-in 0.001720\n",
      "34   10000  Sequential 0.001698\n",
      "35   10000    Parallel 0.016226\n",
      "36   10000    Built-in 0.001733\n",
      "37   10000  Sequential 0.001652\n",
      "38   10000    Parallel 0.017348\n",
      "39   10000    Built-in 0.001702\n",
      "40   10000  Sequential 0.001680\n",
      "41   10000    Parallel 0.017302\n",
      "42   10000    Built-in 0.001726\n",
      "43   10000  Sequential 0.001675\n",
      "44   10000    Parallel 0.017386\n",
      "45   10000    Built-in 0.001716\n",
      "46  100000  Sequential 0.020040\n",
      "47  100000    Parallel 0.050548\n",
      "48  100000    Built-in 0.020300\n",
      "49  100000  Sequential 0.020004\n",
      "50  100000    Parallel 0.043119\n",
      "51  100000    Built-in 0.020504\n",
      "52  100000  Sequential 0.019763\n",
      "53  100000    Parallel 0.050735\n",
      "54  100000    Built-in 0.020439\n",
      "55  100000  Sequential 0.019913\n",
      "56  100000    Parallel 0.049806\n",
      "57  100000    Built-in 0.020541\n",
      "58  100000  Sequential 0.019726\n",
      "59  100000    Parallel 0.044636\n",
      "60  100000    Built-in 0.020252\n",
      "61 1000000  Sequential 0.230648\n",
      "62 1000000    Parallel 0.162221\n",
      "63 1000000    Built-in 0.242869\n",
      "64 1000000  Sequential 0.235778\n",
      "65 1000000    Parallel 0.162137\n",
      "66 1000000    Built-in 0.241607\n",
      "67 1000000  Sequential 0.238383\n",
      "68 1000000    Parallel 0.163279\n",
      "69 1000000    Built-in 0.242786\n",
      "70 1000000  Sequential 0.232921\n",
      "71 1000000    Parallel 0.170237\n",
      "72 1000000    Built-in 0.241583\n",
      "73 1000000  Sequential 0.230096\n",
      "74 1000000    Parallel 0.153896\n",
      "75 1000000    Built-in 0.242492\n"
     ]
    }
   ],
   "source": [
    "%%R\n",
    "data_sequential = data[c(TRUE,FALSE, FALSE), ] \n",
    "data_parallel = data[c(FALSE,TRUE,FALSE), ]\n",
    "data_built_in = data[c(FALSE, FALSE, TRUE), ]\n",
    "\n",
    "data\n",
    "\n",
    "\n"
   ]
  },
  {
   "cell_type": "markdown",
   "id": "d8895e4b-42ce-4433-8e71-d68e7e239502",
   "metadata": {},
   "source": [
    "Let's compute confidence intervals for the mean time for the different sizes:\n",
    "1. for each size\\\n",
    "compute the sample mean time $S_{5} = \\frac{1}{5} \\times \\sum_{i=1}^{5} x_i$\\\n",
    "compute the sample standard deviation $\\sigma = \\sum_{i=1}^{5} (x_i - \\mu)^2 $\n",
    "compute the 95% confidence interval = $[\\mu - 2 \\times \\frac{\\sigma}{\\sqrt{n}} , \\mu + 2 \\times \\frac{\\sigma}{\\sqrt{n}} ] $\n",
    "   "
   ]
  },
  {
   "cell_type": "code",
   "execution_count": 5,
   "id": "b289d68e-00bf-4ce3-b922-e56401f243dc",
   "metadata": {},
   "outputs": [
    {
     "data": {
      "text/plain": [
       "\n",
       "Attaching package: ‘dplyr’\n",
       "\n",
       "The following objects are masked from ‘package:stats’:\n",
       "\n",
       "    filter, lag\n",
       "\n",
       "The following objects are masked from ‘package:base’:\n",
       "\n",
       "    intersect, setdiff, setequal, union\n",
       "\n"
      ]
     },
     "metadata": {},
     "output_type": "display_data"
    }
   ],
   "source": [
    "%%R\n",
    "library(dplyr)\n",
    "\n",
    "data_sequential_mean = data_sequential %>% group_by(Size) %>% summarize(mean = sum(Time)/5,) # 5x2 array holding Size and mean\n",
    "replication_times = c(5, 5, 5, 5, 5) # to extend the mean array to 25x2\n",
    "data_sequential_mean_long = data_sequential_mean[rep(row.names(data_sequential_mean), times = replication_times),] # 25x2 array holding Size and mean\n",
    "\n",
    "\n",
    "data_sequential$squared_difference = (data_sequential_mean_long$mean - data_sequential$Time)^2\n"
   ]
  },
  {
   "cell_type": "code",
   "execution_count": 6,
   "id": "c3bc261af6236007",
   "metadata": {},
   "outputs": [],
   "source": [
    "%%R\n",
    "data_sequential_variance = data_sequential %>% group_by(Size) %>% summarize(variance = sum(squared_difference)/4)\n",
    "\n"
   ]
  },
  {
   "cell_type": "code",
   "execution_count": 7,
   "id": "f5a66b89-bfc4-463a-b4ca-c62c4dfad2c2",
   "metadata": {},
   "outputs": [],
   "source": [
    "%%R\n",
    "data_sequential_stdeviation = (data_sequential_variance$variance)^(1/2)  # list of the standard errors\n"
   ]
  },
  {
   "cell_type": "markdown",
   "id": "97f3946f-1375-45cc-95f4-976d6e4bbe80",
   "metadata": {},
   "source": [
    "Now make this list of standard deviations into a list of confidence intervals:"
   ]
  },
  {
   "cell_type": "code",
   "execution_count": 8,
   "id": "2213cd0e-7b9b-432a-854a-80c484c5679e",
   "metadata": {},
   "outputs": [
    {
     "name": "stdout",
     "output_type": "stream",
     "text": [
      "# A tibble: 5 × 4\n",
      "     Size      mean lower_bound upper_bound\n",
      "    <int>     <dbl>       <dbl>       <dbl>\n",
      "1     100 0.0000098  0.00000935   0.0000102\n",
      "2    1000 0.000128   0.000127     0.000129 \n",
      "3   10000 0.00170    0.00165      0.00174  \n",
      "4  100000 0.0199     0.0197       0.0200   \n",
      "5 1000000 0.234      0.230        0.237    \n"
     ]
    }
   ],
   "source": [
    "%%R\n",
    "data_sequential_mean$lower_bound = data_sequential_mean$mean - 2*data_sequential_stdeviation/2\n",
    "data_sequential_mean$upper_bound = data_sequential_mean$mean + 2*data_sequential_stdeviation/2\n",
    "data_sequential_mean\n"
   ]
  },
  {
   "cell_type": "markdown",
   "id": "51d4812a-3bbd-488d-b9b3-c282ebfcf892",
   "metadata": {},
   "source": [
    "the lower_bound and upper_Bound columns in data_sequential_mean now hold the corresponding confidence intervals fo"
   ]
  },
  {
   "cell_type": "markdown",
   "id": "19895f19-55fb-43ee-86cb-ccf20845aecd",
   "metadata": {},
   "source": [
    "## Redoing the computations in a simpler way, after feedback:"
   ]
  },
  {
   "cell_type": "code",
   "execution_count": 13,
   "id": "349d06e8-ecd8-4a70-b8bf-42fa34d2d8ef",
   "metadata": {},
   "outputs": [],
   "source": [
    "%%R\n",
    "data2 <- read.csv(\"measurements_03_47.csv\")"
   ]
  },
  {
   "cell_type": "code",
   "execution_count": 10,
   "id": "f48bddd4-8c9e-4367-984e-0cf1b70f2532",
   "metadata": {},
   "outputs": [],
   "source": [
    "%%R\n",
    "\n",
    "\n",
    "data_sequential = data2[c(TRUE,FALSE, FALSE), ] \n",
    "data_parallel = data2[c(FALSE,TRUE,FALSE), ]\n",
    "data_built_in = data2[c(FALSE, FALSE, TRUE), ]\n",
    "\n"
   ]
  },
  {
   "cell_type": "code",
   "execution_count": 11,
   "id": "40dcad44-31b8-4608-a5ff-9f28b133b565",
   "metadata": {},
   "outputs": [
    {
     "name": "stdout",
     "output_type": "stream",
     "text": [
      "[1] \"The confidence interval for the sequential method is: 0.0136736801858198 , 0.0884414398141802\"\n",
      "[1] \"The confidence interval for the parallel method is: 0.0260325319851516 , 0.0735357880148484\"\n",
      "[1] \"The confidence interval for the built_in method is: 0.0141461169770554 , 0.0916996430229446\"\n"
     ]
    }
   ],
   "source": [
    "%%R\n",
    "library(dplyr)\n",
    "# using the summarise() function to obtain confidence intervals:\n",
    "\n",
    "sequential = summarise(data_sequential, mean=mean(Time), n=n(), err = sd(Time)/sqrt(n), lb=mean-2*err, ub=mean+2*err)\n",
    "print(paste(\"The confidence interval for the sequential method is:\",sequential$lb,\",\",sequential$ub))\n",
    "\n",
    "parallel = summarise(data_parallel, mean=mean(Time), n=n(), err = sd(Time)/sqrt(n), lb=mean-2*err, ub=mean+2*err)\n",
    "print(paste(\"The confidence interval for the parallel method is:\",parallel$lb,\",\",parallel$ub))\n",
    "\n",
    "built_in = summarise(data_built_in, mean=mean(Time), n=n(), err = sd(Time)/sqrt(n), lb=mean-2*err, ub=mean+2*err)\n",
    "print(paste(\"The confidence interval for the built_in method is:\",built_in$lb,\",\",built_in$ub))\n",
    "\n",
    "## This doesn't seem right because now for each method, there is only one confidence interval. I think I should construct one \n",
    "## confidence interval for the data for each Size = [100, 1000, ...]\n",
    "\n",
    "\n",
    "\n"
   ]
  },
  {
   "cell_type": "markdown",
   "id": "fd2ed767-d93a-4e2e-9027-9b2c28413e24",
   "metadata": {},
   "source": [
    "## Fitting a linear model for the data:\n",
    "### Lets first look for outliers"
   ]
  },
  {
   "cell_type": "code",
   "execution_count": 26,
   "id": "c6f89688-2ae4-418c-abc0-86c9f259ef74",
   "metadata": {},
   "outputs": [
    {
     "name": "stdout",
     "output_type": "stream",
     "text": [
      "      Size        Type     Time\n",
      "1      100  Sequential 0.000010\n",
      "4      100  Sequential 0.000010\n",
      "7      100  Sequential 0.000009\n",
      "10     100  Sequential 0.000010\n",
      "13     100  Sequential 0.000010\n",
      "16    1000  Sequential 0.000128\n",
      "19    1000  Sequential 0.000126\n",
      "22    1000  Sequential 0.000128\n",
      "25    1000  Sequential 0.000128\n",
      "28    1000  Sequential 0.000129\n",
      "31   10000  Sequential 0.001774\n",
      "34   10000  Sequential 0.001698\n",
      "37   10000  Sequential 0.001652\n",
      "40   10000  Sequential 0.001680\n",
      "43   10000  Sequential 0.001675\n",
      "46  100000  Sequential 0.020040\n",
      "49  100000  Sequential 0.020004\n",
      "52  100000  Sequential 0.019763\n",
      "55  100000  Sequential 0.019913\n",
      "58  100000  Sequential 0.019726\n",
      "61 1000000  Sequential 0.230648\n",
      "64 1000000  Sequential 0.235778\n",
      "67 1000000  Sequential 0.238383\n",
      "70 1000000  Sequential 0.232921\n",
      "73 1000000  Sequential 0.230096\n"
     ]
    }
   ],
   "source": [
    "%%R\n",
    "library(ggplot2)\n",
    "\n",
    "data_sequential\n",
    "\n",
    "\n"
   ]
  },
  {
   "cell_type": "markdown",
   "id": "f284ba14-7991-4bd7-996a-37599e2be936",
   "metadata": {},
   "source": [
    "## Fitting the linear models"
   ]
  },
  {
   "cell_type": "code",
   "execution_count": 35,
   "id": "6ea62644-2187-4ace-b005-0267a858fa7e",
   "metadata": {},
   "outputs": [
    {
     "name": "stdout",
     "output_type": "stream",
     "text": [
      "\n",
      "Call:\n",
      "lm(formula = Time ~ Size, data = data_sequential)\n",
      "\n",
      "Residuals:\n",
      "       Min         1Q     Median         3Q        Max \n",
      "-0.0032211 -0.0023774  0.0004466  0.0010015  0.0050659 \n",
      "\n",
      "Coefficients:\n",
      "              Estimate Std. Error t value Pr(>|t|)    \n",
      "(Intercept) -1.016e-03  4.583e-04  -2.217   0.0368 *  \n",
      "Size         2.343e-07  1.020e-09 229.807   <2e-16 ***\n",
      "---\n",
      "Signif. codes:  0 ‘***’ 0.001 ‘**’ 0.01 ‘*’ 0.05 ‘.’ 0.1 ‘ ’ 1\n",
      "\n",
      "Residual standard error: 0.001992 on 23 degrees of freedom\n",
      "Multiple R-squared:  0.9996,\tAdjusted R-squared:  0.9995 \n",
      "F-statistic: 5.281e+04 on 1 and 23 DF,  p-value: < 2.2e-16\n",
      "\n"
     ]
    }
   ],
   "source": [
    "%%R\n",
    "sequential_model = lm(Time ~ Size, data = data_sequential)\n",
    "summary(sequential_model)"
   ]
  },
  {
   "cell_type": "code",
   "execution_count": 37,
   "id": "3a4ce82b-9c11-4771-8950-b28d5d00569b",
   "metadata": {},
   "outputs": [
    {
     "name": "stdout",
     "output_type": "stream",
     "text": [
      "\n",
      "Call:\n",
      "lm(formula = Time ~ Size, data = data_parallel)\n",
      "\n",
      "Residuals:\n",
      "      Min        1Q    Median        3Q       Max \n",
      "-0.014052 -0.002723 -0.001290  0.004686  0.018888 \n",
      "\n",
      "Coefficients:\n",
      "             Estimate Std. Error t value Pr(>|t|)    \n",
      "(Intercept) 1.717e-02  2.364e-03   7.263 2.16e-07 ***\n",
      "Size        1.468e-07  5.260e-09  27.904  < 2e-16 ***\n",
      "---\n",
      "Signif. codes:  0 ‘***’ 0.001 ‘**’ 0.01 ‘*’ 0.05 ‘.’ 0.1 ‘ ’ 1\n",
      "\n",
      "Residual standard error: 0.01027 on 23 degrees of freedom\n",
      "Multiple R-squared:  0.9713,\tAdjusted R-squared:  0.9701 \n",
      "F-statistic: 778.6 on 1 and 23 DF,  p-value: < 2.2e-16\n",
      "\n"
     ]
    }
   ],
   "source": [
    "%%R\n",
    "parallel_model = lm(Time ~ Size, data = data_parallel)\n",
    "summary(parallel_model)"
   ]
  },
  {
   "cell_type": "code",
   "execution_count": 40,
   "id": "f5004955-25f8-420b-aa6c-529ba4172c3a",
   "metadata": {},
   "outputs": [
    {
     "name": "stdout",
     "output_type": "stream",
     "text": [
      "\n",
      "Call:\n",
      "lm(formula = Time ~ Size, data = data_built_in)\n",
      "\n",
      "Residuals:\n",
      "       Min         1Q     Median         3Q        Max \n",
      "-0.0029607 -0.0003849  0.0005001  0.0010631  0.0010858 \n",
      "\n",
      "Coefficients:\n",
      "              Estimate Std. Error t value Pr(>|t|)    \n",
      "(Intercept) -1.096e-03  3.513e-04   -3.12  0.00482 ** \n",
      "Size         2.431e-07  7.817e-10  310.98  < 2e-16 ***\n",
      "---\n",
      "Signif. codes:  0 ‘***’ 0.001 ‘**’ 0.01 ‘*’ 0.05 ‘.’ 0.1 ‘ ’ 1\n",
      "\n",
      "Residual standard error: 0.001527 on 23 degrees of freedom\n",
      "Multiple R-squared:  0.9998,\tAdjusted R-squared:  0.9998 \n",
      "F-statistic: 9.671e+04 on 1 and 23 DF,  p-value: < 2.2e-16\n",
      "\n"
     ]
    }
   ],
   "source": [
    "%%R\n",
    "built_in_model = lm(Time ~ Size, data = data_built_in)\n",
    "summary(built_in_model)"
   ]
  },
  {
   "cell_type": "markdown",
   "id": "3c92e8a7-b426-44df-8f7f-e63cdde6f885",
   "metadata": {},
   "source": [
    "All three linear models are very good fits (high R-values meaning that the model explains the entire dataset, not much noise is unexplained) (as expected based on what we know about the experiment). The p-values for the models are very small, which is a good reason to accep that there is a relationship between the Size (of dataset) and Time taken to sort. "
   ]
  },
  {
   "cell_type": "markdown",
   "id": "32059d24-ef4f-4ec1-94b1-006c0f64adc4",
   "metadata": {},
   "source": [
    "## Let's plot the Residuals vs Leverage plot and analyse: #TODO"
   ]
  },
  {
   "cell_type": "code",
   "execution_count": 39,
   "id": "a8322e3d-c8ae-4d4f-b65d-599a122f9c49",
   "metadata": {},
   "outputs": [
    {
     "name": "stdout",
     "output_type": "stream",
     "text": [
      "NULL\n"
     ]
    }
   ],
   "source": [
    "%%R\n",
    "# plot(sequential_model)"
   ]
  },
  {
   "cell_type": "markdown",
   "id": "f1bcb637-64e0-461c-958d-d59f060baebf",
   "metadata": {},
   "source": []
  },
  {
   "cell_type": "markdown",
   "id": "e8572ab9-c23d-40ab-be4d-3c627c2cedbb",
   "metadata": {},
   "source": []
  }
 ],
 "metadata": {
  "kernelspec": {
   "display_name": "Python 3 (ipykernel)",
   "language": "python",
   "name": "python3"
  },
  "language_info": {
   "codemirror_mode": {
    "name": "ipython",
    "version": 3
   },
   "file_extension": ".py",
   "mimetype": "text/x-python",
   "name": "python",
   "nbconvert_exporter": "python",
   "pygments_lexer": "ipython3",
   "version": "3.12.7"
  }
 },
 "nbformat": 4,
 "nbformat_minor": 5
}
