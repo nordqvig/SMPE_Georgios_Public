{
 "cells": [
  {
   "cell_type": "code",
   "execution_count": 2,
   "id": "initial_id",
   "metadata": {},
   "outputs": [
    {
     "name": "stdout",
     "output_type": "stream",
     "text": [
      "The rpy2.ipython extension is already loaded. To reload it, use:\n",
      "  %reload_ext rpy2.ipython\n"
     ]
    }
   ],
   "source": [
    "%load_ext rpy2.ipython\n",
    "\n",
    "\n"
   ]
  },
  {
   "cell_type": "markdown",
   "id": "96938967c7304414",
   "metadata": {},
   "source": [
    "---\n",
    "title: \"M2R_Parallel_Quicksort\"\n",
    "output: html_notebook\n",
    "---\n",
    "# Task 1: Compute confidence intervals for the data from M2R Parallel quicksort experiment\n",
    "\n",
    "Data is contained in \"measurements_03_47.csv\"\n",
    "First we read the data:"
   ]
  },
  {
   "cell_type": "code",
   "execution_count": 3,
   "id": "5e141c1c-edb8-4f1d-bc09-4a50bc723e63",
   "metadata": {},
   "outputs": [],
   "source": [
    "%%R \n",
    "\n",
    "data <- read.csv(\"measurements_03_47.csv\")\n",
    "\n"
   ]
  },
  {
   "cell_type": "markdown",
   "id": "c2d53fff-0fd4-4897-8c5f-515448dbcb0f",
   "metadata": {},
   "source": [
    "Then we group the data in new tables, by the experiment types sequential, parallel, and built-in."
   ]
  },
  {
   "cell_type": "code",
   "execution_count": 31,
   "id": "5ee1b26f6f56f396",
   "metadata": {},
   "outputs": [],
   "source": [
    "%%R\n",
    "data_sequential = data[c(TRUE,FALSE, FALSE), ] \n",
    "data_parallel = data[c(FALSE,TRUE,FALSE), ]\n",
    "data_built_in = data[c(FALSE, FALSE, TRUE), ]\n",
    "\n",
    "\n",
    "\n"
   ]
  },
  {
   "cell_type": "markdown",
   "id": "d8895e4b-42ce-4433-8e71-d68e7e239502",
   "metadata": {},
   "source": [
    "Let's compute confidence intervals for the mean time for the different sizes:\n",
    "1. for each size\\\n",
    "compute the sample mean time $S_{5} = \\frac{1}{5} \\times \\sum_{i=1}^{5} x_i$\\\n",
    "compute the sample standard deviation $\\sigma = \\sum_{i=1}^{5} (x_i - \\mu)^2 $\n",
    "compute the 95% confidence interval = $[\\mu - 2 \\times \\frac{\\sigma}{\\sqrt{n}} , \\mu + 2 \\times \\frac{\\sigma}{\\sqrt{n}} ] $\n",
    "   "
   ]
  },
  {
   "cell_type": "code",
   "execution_count": 35,
   "id": "b289d68e-00bf-4ce3-b922-e56401f243dc",
   "metadata": {},
   "outputs": [
    {
     "name": "stdout",
     "output_type": "stream",
     "text": [
      " [1] 4.000000e-14 4.000000e-14 6.400000e-13 4.000000e-14 4.000000e-14\n",
      " [6] 4.000000e-14 3.240000e-12 4.000000e-14 4.000000e-14 1.440000e-12\n",
      "[11] 6.115240e-09 4.840000e-12 1.918440e-09 2.496400e-10 4.326400e-10\n",
      "[16] 2.274064e-08 1.317904e-08 1.592644e-08 5.664400e-10 2.663424e-08\n",
      "[21] 8.510056e-06 4.896484e-06 2.321120e-05 4.149936e-07 1.203535e-05\n"
     ]
    }
   ],
   "source": [
    "%%R\n",
    "library(dplyr)\n",
    "\n",
    "data_sequential_mean = data_sequential %>% group_by(Size) %>% summarize(mean = sum(Time)/5) # 5x2 array holding Size and mean\n",
    "\n",
    "replication_times = c(5, 5, 5, 5, 5) # to extend the mean array to 25x2\n",
    "data_sequential_mean_long = data_sequential_mean[rep(row.names(data_sequential_mean), times = replication_times),] # 25x2 array holding Size and mean\n",
    "\n",
    "\n",
    "data_sequential$squared_difference = (data_sequential_mean_long$mean - data_sequential$Time)^2\n",
    "\n"
   ]
  },
  {
   "cell_type": "code",
   "execution_count": 36,
   "id": "c3bc261af6236007",
   "metadata": {},
   "outputs": [
    {
     "name": "stdout",
     "output_type": "stream",
     "text": [
      "# A tibble: 5 × 2\n",
      "     Size variance\n",
      "    <int>    <dbl>\n",
      "1     100 2.  e-13\n",
      "2    1000 1.20e-12\n",
      "3   10000 2.18e- 9\n",
      "4  100000 1.98e- 8\n",
      "5 1000000 1.23e- 5\n"
     ]
    }
   ],
   "source": [
    "%%R\n",
    "data_sequential_variance = data_sequential %>% group_by(Size) %>% summarize(variance = sum(squared_difference)/4)\n",
    "\n"
   ]
  },
  {
   "cell_type": "code",
   "execution_count": 39,
   "id": "f5a66b89-bfc4-463a-b4ca-c62c4dfad2c2",
   "metadata": {},
   "outputs": [],
   "source": [
    "%%R\n",
    "data_sequential_stdeviation = (data_sequential_variance$variance)^(1/2)  # list of the standard errors\n"
   ]
  },
  {
   "cell_type": "markdown",
   "id": "97f3946f-1375-45cc-95f4-976d6e4bbe80",
   "metadata": {},
   "source": [
    "Now make this list of standard deviations into a list of confidence intervals:"
   ]
  },
  {
   "cell_type": "code",
   "execution_count": 29,
   "id": "2213cd0e-7b9b-432a-854a-80c484c5679e",
   "metadata": {},
   "outputs": [
    {
     "name": "stdout",
     "output_type": "stream",
     "text": [
      "# A tibble: 5 × 4\n",
      "     Size      mean lower_bound upper_bound\n",
      "    <int>     <dbl>       <dbl>       <dbl>\n",
      "1     100 0.0000098  0.00000935   0.0000102\n",
      "2    1000 0.000128   0.000127     0.000129 \n",
      "3   10000 0.00170    0.00165      0.00174  \n",
      "4  100000 0.0199     0.0197       0.0200   \n",
      "5 1000000 0.234      0.230        0.237    \n"
     ]
    }
   ],
   "source": [
    "%%R\n",
    "data_sequential_mean$lower_bound = data_sequential_mean$mean - 2*data_sequential_stdeviation/2\n",
    "data_sequential_mean$upper_bound = data_sequential_mean$mean + 2*data_sequential_stdeviation/2\n",
    "data_sequential_mean\n"
   ]
  },
  {
   "cell_type": "markdown",
   "id": "51d4812a-3bbd-488d-b9b3-c282ebfcf892",
   "metadata": {},
   "source": [
    "the lower_bound and upper_Bound columns in data_sequential_mean now hold the corresponding confidence intervals fo"
   ]
  }
 ],
 "metadata": {
  "kernelspec": {
   "display_name": "Python 3 (ipykernel)",
   "language": "python",
   "name": "python3"
  },
  "language_info": {
   "codemirror_mode": {
    "name": "ipython",
    "version": 3
   },
   "file_extension": ".py",
   "mimetype": "text/x-python",
   "name": "python",
   "nbconvert_exporter": "python",
   "pygments_lexer": "ipython3",
   "version": "3.12.7"
  }
 },
 "nbformat": 4,
 "nbformat_minor": 5
}
