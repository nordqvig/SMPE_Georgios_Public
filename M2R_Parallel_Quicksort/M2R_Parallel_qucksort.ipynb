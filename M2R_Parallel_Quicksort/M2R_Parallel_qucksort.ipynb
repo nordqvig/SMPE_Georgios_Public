{
 "cells": [
  {
   "cell_type": "code",
   "execution_count": 189,
   "id": "initial_id",
   "metadata": {},
   "outputs": [
    {
     "name": "stdout",
     "output_type": "stream",
     "text": [
      "The rpy2.ipython extension is already loaded. To reload it, use:\n",
      "  %reload_ext rpy2.ipython\n"
     ]
    }
   ],
   "source": [
    "%load_ext rpy2.ipython\n",
    "\n",
    "\n"
   ]
  },
  {
   "cell_type": "markdown",
   "id": "96938967c7304414",
   "metadata": {},
   "source": [
    "---\n",
    "title: \"M2R_Parallel_Quicksort\"\n",
    "output: html_notebook\n",
    "---\n",
    "# Task 1: Compute confidence intervals for the data from M2R Parallel quicksort experiment\n",
    "\n",
    "Data is contained in \"measurements_03_47.csv\"\n",
    "First we read the data:"
   ]
  },
  {
   "cell_type": "code",
   "execution_count": 190,
   "id": "5e141c1c-edb8-4f1d-bc09-4a50bc723e63",
   "metadata": {},
   "outputs": [],
   "source": [
    "%%R \n",
    "\n",
    "data <- read.csv(\"measurements_03_47.csv\")\n",
    "\n"
   ]
  },
  {
   "cell_type": "markdown",
   "id": "c2d53fff-0fd4-4897-8c5f-515448dbcb0f",
   "metadata": {},
   "source": [
    "Then we group the data in new tables, by the experiment types sequential, parallel, and built-in."
   ]
  },
  {
   "cell_type": "code",
   "execution_count": 191,
   "id": "5ee1b26f6f56f396",
   "metadata": {},
   "outputs": [],
   "source": [
    "%%R\n",
    "data_sequential = data[c(TRUE,FALSE, FALSE), ] \n",
    "data_parallel = data[c(FALSE,TRUE,FALSE), ]\n",
    "data_built_in = data[c(FALSE, FALSE, TRUE), ]\n",
    "\n",
    "\n"
   ]
  },
  {
   "cell_type": "markdown",
   "id": "d8895e4b-42ce-4433-8e71-d68e7e239502",
   "metadata": {},
   "source": [
    "Let's compute confidence intervals for the mean time for the different sizes:\n",
    "1. for each size\\\n",
    "compute the sample mean time $S_{5} = \\frac{1}{5} \\times \\sum_{i=1}^{5} x_i$\\\n",
    "compute the sample standard deviation $\\sigma = \\sum_{i=1}^{5} (x_i - \\mu)^2 $\n",
    "compute the 95% confidence interval = $[\\mu - 2 \\times \\frac{\\sigma}{\\sqrt{n}} , \\mu + 2 \\times \\frac{\\sigma}{\\sqrt{n}} ] $\n",
    "   "
   ]
  },
  {
   "cell_type": "code",
   "execution_count": 192,
   "id": "b289d68e-00bf-4ce3-b922-e56401f243dc",
   "metadata": {},
   "outputs": [
    {
     "name": "stdout",
     "output_type": "stream",
     "text": [
      "      Size        Type     Time squared_difference\n",
      "1      100  Sequential 0.000010       4.000000e-14\n",
      "4      100  Sequential 0.000010       4.000000e-14\n",
      "7      100  Sequential 0.000009       6.400000e-13\n",
      "10     100  Sequential 0.000010       4.000000e-14\n",
      "13     100  Sequential 0.000010       4.000000e-14\n",
      "16    1000  Sequential 0.000128       4.000000e-14\n",
      "19    1000  Sequential 0.000126       3.240000e-12\n",
      "22    1000  Sequential 0.000128       4.000000e-14\n",
      "25    1000  Sequential 0.000128       4.000000e-14\n",
      "28    1000  Sequential 0.000129       1.440000e-12\n",
      "31   10000  Sequential 0.001774       6.115240e-09\n",
      "34   10000  Sequential 0.001698       4.840000e-12\n",
      "37   10000  Sequential 0.001652       1.918440e-09\n",
      "40   10000  Sequential 0.001680       2.496400e-10\n",
      "43   10000  Sequential 0.001675       4.326400e-10\n",
      "46  100000  Sequential 0.020040       2.274064e-08\n",
      "49  100000  Sequential 0.020004       1.317904e-08\n",
      "52  100000  Sequential 0.019763       1.592644e-08\n",
      "55  100000  Sequential 0.019913       5.664400e-10\n",
      "58  100000  Sequential 0.019726       2.663424e-08\n",
      "61 1000000  Sequential 0.230648       8.510056e-06\n",
      "64 1000000  Sequential 0.235778       4.896484e-06\n",
      "67 1000000  Sequential 0.238383       2.321120e-05\n",
      "70 1000000  Sequential 0.232921       4.149936e-07\n",
      "73 1000000  Sequential 0.230096       1.203535e-05\n"
     ]
    }
   ],
   "source": [
    "%%R\n",
    "library(dplyr)\n",
    "\n",
    "data_sequential_mean = data_sequential %>% group_by(Size) %>% summarize(mean = sum(Time)/5) # 5x2 array holding Size and mean\n",
    "\n",
    "replication_times = c(5, 5, 5, 5, 5) # to extend the mean array to 25x2\n",
    "data_sequential_mean_long = data_sequential_mean[rep(row.names(data_sequential_mean), times = replication_times),] # 25x2 array holding Size and mean\n",
    "\n",
    "\n",
    "data_sequential$squared_difference = (data_sequential_mean_long$mean - data_sequential$Time)^2\n",
    "\n",
    "\n",
    "data_sequential"
   ]
  },
  {
   "cell_type": "code",
   "execution_count": 195,
   "id": "c3bc261af6236007",
   "metadata": {},
   "outputs": [
    {
     "name": "stdout",
     "output_type": "stream",
     "text": [
      "# A tibble: 5 × 2\n",
      "     Size variance\n",
      "    <int>    <dbl>\n",
      "1     100 1.6 e-13\n",
      "2    1000 9.60e-13\n",
      "3   10000 1.74e- 9\n",
      "4  100000 1.58e- 8\n",
      "5 1000000 9.81e- 6\n"
     ]
    }
   ],
   "source": [
    "%%R\n",
    "data_sequential_variance = data_sequential %>% group_by(Size) %>% summarize(variance = sum(squared_difference)/5)\n",
    "data_sequential_variance"
   ]
  },
  {
   "cell_type": "code",
   "execution_count": 199,
   "id": "f5a66b89-bfc4-463a-b4ca-c62c4dfad2c2",
   "metadata": {},
   "outputs": [
    {
     "name": "stdout",
     "output_type": "stream",
     "text": [
      "[1] 8.000000e-08 1.959592e-07 8.352628e-06 2.514706e-05 6.265338e-04\n"
     ]
    }
   ],
   "source": [
    "%%R\n",
    "data_sequential_stderror = (data_sequential_variance$variance)^(1/2) / 5 # list of the standard errors\n",
    "data_sequential_stderror"
   ]
  },
  {
   "cell_type": "markdown",
   "id": "97f3946f-1375-45cc-95f4-976d6e4bbe80",
   "metadata": {},
   "source": [
    "Now make this list of standard errors into a list of confidence intervals:"
   ]
  },
  {
   "cell_type": "code",
   "execution_count": 201,
   "id": "2213cd0e-7b9b-432a-854a-80c484c5679e",
   "metadata": {},
   "outputs": [
    {
     "name": "stdout",
     "output_type": "stream",
     "text": [
      "[[1]]\n",
      "[1] NA\n",
      "\n",
      "[[2]]\n",
      "[1] NA\n",
      "\n",
      "[[3]]\n",
      "[1] NA\n",
      "\n",
      "[[4]]\n",
      "[1] NA\n",
      "\n",
      "[[5]]\n",
      "[1] NA\n",
      "\n",
      "[[6]]\n",
      "[1] NA\n",
      "\n",
      "[[7]]\n",
      "[1] NA\n",
      "\n",
      "[[8]]\n",
      "[1] NA\n",
      "\n",
      "[[9]]\n",
      "[1] NA\n",
      "\n",
      "[[10]]\n",
      "[1] NA\n",
      "\n",
      "$lower_bound\n",
      "[1] 0.0000096400 0.0001274081 0.0016790947 0.0198389059 0.2323121324\n",
      "\n"
     ]
    },
    {
     "data": {
      "text/plain": [
       "In addition: Warning message:\n",
       "In confidence_intervals$lower_bound = data_sequential_mean$mean -  :\n",
       "  Coercing LHS to a list\n"
      ]
     },
     "metadata": {},
     "output_type": "display_data"
    }
   ],
   "source": [
    "%%R\n",
    "confidence_intervals = array(dim = c(5,2))\n",
    "colnames(confidence_intervals) = c(\"lower_bound\", \"upper_bound\")\n",
    "confidence_intervals$lower_bound = data_sequential_mean$mean - 2 * data_sequential_stderror$\n",
    "confidence_intervals"
   ]
  },
  {
   "cell_type": "code",
   "execution_count": null,
   "id": "45c542b9-2d1a-4edb-8c38-93634ddd7378",
   "metadata": {},
   "outputs": [],
   "source": []
  }
 ],
 "metadata": {
  "kernelspec": {
   "display_name": "Python 3 (ipykernel)",
   "language": "python",
   "name": "python3"
  },
  "language_info": {
   "codemirror_mode": {
    "name": "ipython",
    "version": 3
   },
   "file_extension": ".py",
   "mimetype": "text/x-python",
   "name": "python",
   "nbconvert_exporter": "python",
   "pygments_lexer": "ipython3",
   "version": "3.12.7"
  }
 },
 "nbformat": 4,
 "nbformat_minor": 5
}
