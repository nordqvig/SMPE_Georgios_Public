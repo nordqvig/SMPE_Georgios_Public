{
 "cells": [
  {
   "cell_type": "code",
   "execution_count": 3,
   "id": "initial_id",
   "metadata": {},
   "outputs": [],
   "source": [
    "%load_ext rpy2.ipython"
   ]
  },
  {
   "cell_type": "markdown",
   "id": "96938967c7304414",
   "metadata": {},
   "source": [
    "---\n",
    "title: \"M2R_Parallel_Quicksort\"\n",
    "output: html_notebook\n",
    "---\n",
    "# Task 1: Compute confidence intervals for the data from M2R Parallel quicksort experiment\n",
    "\n",
    "Data is contained in \"measurements_03_47.csv\"\n",
    "First we read the data:"
   ]
  },
  {
   "cell_type": "code",
   "execution_count": 23,
   "id": "5e141c1c-edb8-4f1d-bc09-4a50bc723e63",
   "metadata": {},
   "outputs": [],
   "source": [
    "%%R \n",
    "\n",
    "data <- read.csv(\"measurements_03_47.csv\")\n",
    "\n"
   ]
  },
  {
   "cell_type": "markdown",
   "id": "c2d53fff-0fd4-4897-8c5f-515448dbcb0f",
   "metadata": {},
   "source": [
    "Then we group the data in new tables, by the experiment types sequential, parallel, and built-in."
   ]
  },
  {
   "cell_type": "code",
   "execution_count": 50,
   "id": "5ee1b26f6f56f396",
   "metadata": {},
   "outputs": [
    {
     "name": "stdout",
     "output_type": "stream",
     "text": [
      "      Size        Type     Time\n",
      "1      100  Sequential 0.000010\n",
      "2      100    Parallel 0.004024\n",
      "3      100    Built-in 0.000013\n",
      "4      100  Sequential 0.000010\n",
      "5      100    Parallel 0.004448\n",
      "6      100    Built-in 0.000014\n",
      "7      100  Sequential 0.000009\n",
      "8      100    Parallel 0.003384\n",
      "9      100    Built-in 0.000013\n",
      "10     100  Sequential 0.000010\n",
      "11     100    Parallel 0.003738\n",
      "12     100    Built-in 0.000012\n",
      "13     100  Sequential 0.000010\n",
      "14     100    Parallel 0.003133\n",
      "15     100    Built-in 0.000011\n",
      "16    1000  Sequential 0.000128\n",
      "17    1000    Parallel 0.020407\n",
      "18    1000    Built-in 0.000209\n",
      "19    1000  Sequential 0.000126\n",
      "20    1000    Parallel 0.022003\n",
      "21    1000    Built-in 0.000201\n",
      "22    1000  Sequential 0.000128\n",
      "23    1000    Parallel 0.016149\n",
      "24    1000    Built-in 0.000210\n",
      "25    1000  Sequential 0.000128\n",
      "26    1000    Parallel 0.014594\n",
      "27    1000    Built-in 0.000209\n",
      "28    1000  Sequential 0.000129\n",
      "29    1000    Parallel 0.014905\n",
      "30    1000    Built-in 0.000210\n",
      "31   10000  Sequential 0.001774\n",
      "32   10000    Parallel 0.018943\n",
      "33   10000    Built-in 0.001720\n",
      "34   10000  Sequential 0.001698\n",
      "35   10000    Parallel 0.016226\n",
      "36   10000    Built-in 0.001733\n",
      "37   10000  Sequential 0.001652\n",
      "38   10000    Parallel 0.017348\n",
      "39   10000    Built-in 0.001702\n",
      "40   10000  Sequential 0.001680\n",
      "41   10000    Parallel 0.017302\n",
      "42   10000    Built-in 0.001726\n",
      "43   10000  Sequential 0.001675\n",
      "44   10000    Parallel 0.017386\n",
      "45   10000    Built-in 0.001716\n",
      "46  100000  Sequential 0.020040\n",
      "47  100000    Parallel 0.050548\n",
      "48  100000    Built-in 0.020300\n",
      "49  100000  Sequential 0.020004\n",
      "50  100000    Parallel 0.043119\n",
      "51  100000    Built-in 0.020504\n",
      "52  100000  Sequential 0.019763\n",
      "53  100000    Parallel 0.050735\n",
      "54  100000    Built-in 0.020439\n",
      "55  100000  Sequential 0.019913\n",
      "56  100000    Parallel 0.049806\n",
      "57  100000    Built-in 0.020541\n",
      "58  100000  Sequential 0.019726\n",
      "59  100000    Parallel 0.044636\n",
      "60  100000    Built-in 0.020252\n",
      "61 1000000  Sequential 0.230648\n",
      "62 1000000    Parallel 0.162221\n",
      "63 1000000    Built-in 0.242869\n",
      "64 1000000  Sequential 0.235778\n",
      "65 1000000    Parallel 0.162137\n",
      "66 1000000    Built-in 0.241607\n",
      "67 1000000  Sequential 0.238383\n",
      "68 1000000    Parallel 0.163279\n",
      "69 1000000    Built-in 0.242786\n",
      "70 1000000  Sequential 0.232921\n",
      "71 1000000    Parallel 0.170237\n",
      "72 1000000    Built-in 0.241583\n",
      "73 1000000  Sequential 0.230096\n",
      "74 1000000    Parallel 0.153896\n",
      "75 1000000    Built-in 0.242492\n"
     ]
    }
   ],
   "source": [
    "%%R\n",
    "data_sequential = data[c(TRUE,FALSE, FALSE), ] \n",
    "data_parallel = data[c(FALSE,TRUE,FALSE), ]\n",
    "data_built_in = data[c(FALSE, FALSE, TRUE), ]\n",
    "\n",
    "data\n",
    "\n",
    "\n"
   ]
  },
  {
   "cell_type": "markdown",
   "id": "d8895e4b-42ce-4433-8e71-d68e7e239502",
   "metadata": {},
   "source": [
    "Let's compute confidence intervals for the mean time for the different sizes:\n",
    "1. for each size\\\n",
    "compute the sample mean time $S_{5} = \\frac{1}{5} \\times \\sum_{i=1}^{5} x_i$\\\n",
    "compute the sample standard deviation $\\sigma = \\sum_{i=1}^{5} (x_i - \\mu)^2 $\n",
    "compute the 95% confidence interval = $[\\mu - 2 \\times \\frac{\\sigma}{\\sqrt{n}} , \\mu + 2 \\times \\frac{\\sigma}{\\sqrt{n}} ] $\n",
    "   "
   ]
  },
  {
   "cell_type": "code",
   "execution_count": 36,
   "id": "b289d68e-00bf-4ce3-b922-e56401f243dc",
   "metadata": {},
   "outputs": [
    {
     "name": "stdout",
     "output_type": "stream",
     "text": [
      "# A tibble: 5 × 2\n",
      "     Size      mean\n",
      "    <int>     <dbl>\n",
      "1     100 0.0000098\n",
      "2    1000 0.000128 \n",
      "3   10000 0.00170  \n",
      "4  100000 0.0199   \n",
      "5 1000000 0.234    \n"
     ]
    }
   ],
   "source": [
    "%%R\n",
    "library(dplyr)\n",
    "\n",
    "data_sequential_mean = data_sequential %>% group_by(Size) %>% summarize(mean = sum(Time)/5,) # 5x2 array holding Size and mean\n",
    "replication_times = c(5, 5, 5, 5, 5) # to extend the mean array to 25x2\n",
    "data_sequential_mean_long = data_sequential_mean[rep(row.names(data_sequential_mean), times = replication_times),] # 25x2 array holding Size and mean\n",
    "\n",
    "\n",
    "data_sequential$squared_difference = (data_sequential_mean_long$mean - data_sequential$Time)^2\n"
   ]
  },
  {
   "cell_type": "code",
   "execution_count": 7,
   "id": "c3bc261af6236007",
   "metadata": {},
   "outputs": [],
   "source": [
    "%%R\n",
    "data_sequential_variance = data_sequential %>% group_by(Size) %>% summarize(variance = sum(squared_difference)/4)\n",
    "\n"
   ]
  },
  {
   "cell_type": "code",
   "execution_count": 8,
   "id": "f5a66b89-bfc4-463a-b4ca-c62c4dfad2c2",
   "metadata": {},
   "outputs": [],
   "source": [
    "%%R\n",
    "data_sequential_stdeviation = (data_sequential_variance$variance)^(1/2)  # list of the standard errors\n"
   ]
  },
  {
   "cell_type": "markdown",
   "id": "97f3946f-1375-45cc-95f4-976d6e4bbe80",
   "metadata": {},
   "source": [
    "Now make this list of standard deviations into a list of confidence intervals:"
   ]
  },
  {
   "cell_type": "code",
   "execution_count": 9,
   "id": "2213cd0e-7b9b-432a-854a-80c484c5679e",
   "metadata": {},
   "outputs": [
    {
     "name": "stdout",
     "output_type": "stream",
     "text": [
      "# A tibble: 5 × 4\n",
      "     Size      mean lower_bound upper_bound\n",
      "    <int>     <dbl>       <dbl>       <dbl>\n",
      "1     100 0.0000098  0.00000935   0.0000102\n",
      "2    1000 0.000128   0.000127     0.000129 \n",
      "3   10000 0.00170    0.00165      0.00174  \n",
      "4  100000 0.0199     0.0197       0.0200   \n",
      "5 1000000 0.234      0.230        0.237    \n"
     ]
    }
   ],
   "source": [
    "%%R\n",
    "data_sequential_mean$lower_bound = data_sequential_mean$mean - 2*data_sequential_stdeviation/2\n",
    "data_sequential_mean$upper_bound = data_sequential_mean$mean + 2*data_sequential_stdeviation/2\n",
    "data_sequential_mean\n"
   ]
  },
  {
   "cell_type": "markdown",
   "id": "51d4812a-3bbd-488d-b9b3-c282ebfcf892",
   "metadata": {},
   "source": [
    "the lower_bound and upper_Bound columns in data_sequential_mean now hold the corresponding confidence intervals fo"
   ]
  },
  {
   "cell_type": "markdown",
   "id": "19895f19-55fb-43ee-86cb-ccf20845aecd",
   "metadata": {},
   "source": [
    "## Redoing the computations in a simpler way, after feedback:"
   ]
  },
  {
   "cell_type": "code",
   "execution_count": 11,
   "id": "349d06e8-ecd8-4a70-b8bf-42fa34d2d8ef",
   "metadata": {},
   "outputs": [],
   "source": [
    "%%R\n",
    "data2 <- read.csv(\"measurements_03_47.csv\")"
   ]
  },
  {
   "cell_type": "code",
   "execution_count": 91,
   "id": "f48bddd4-8c9e-4367-984e-0cf1b70f2532",
   "metadata": {},
   "outputs": [],
   "source": [
    "%%R\n",
    "\n",
    "\n",
    "data_sequential = data2[c(TRUE,FALSE, FALSE), ] \n",
    "data_parallel = data2[c(FALSE,TRUE,FALSE), ]\n",
    "data_built_in = data2[c(FALSE, FALSE, TRUE), ]\n",
    "\n"
   ]
  },
  {
   "cell_type": "code",
   "execution_count": 97,
   "id": "40dcad44-31b8-4608-a5ff-9f28b133b565",
   "metadata": {},
   "outputs": [
    {
     "name": "stdout",
     "output_type": "stream",
     "text": [
      "[1] \"The confidence interval for the sequential method is: 0.0136736801858198 , 0.0884414398141802\"\n",
      "[1] \"The confidence interval for the parallel method is: 0.0260325319851516 , 0.0735357880148484\"\n",
      "[1] \"The confidence interval for the built_in method is: 0.0141461169770554 , 0.0916996430229446\"\n"
     ]
    }
   ],
   "source": [
    "%%R\n",
    "library(dplyr)\n",
    "# using the summarise() function to obtain confidence intervals:\n",
    "\n",
    "sequential = summarise(data_sequential, mean=mean(Time), n=n(), err = sd(Time)/sqrt(n), lb=mean-2*err, ub=mean+2*err)\n",
    "print(paste(\"The confidence interval for the sequential method is:\",sequential$lb,\",\",sequential$ub))\n",
    "\n",
    "parallel = summarise(data_parallel, mean=mean(Time), n=n(), err = sd(Time)/sqrt(n), lb=mean-2*err, ub=mean+2*err)\n",
    "print(paste(\"The confidence interval for the parallel method is:\",parallel$lb,\",\",parallel$ub))\n",
    "\n",
    "built_in = summarise(data_built_in, mean=mean(Time), n=n(), err = sd(Time)/sqrt(n), lb=mean-2*err, ub=mean+2*err)\n",
    "print(paste(\"The confidence interval for the built_in method is:\",built_in$lb,\",\",built_in$ub))\n",
    "\n",
    "## This doesn't seem right because now for each method, there is only one confidence interval. I think I should construct one \n",
    "## confidence interval for the data for each Size = [100, 1000, ...]\n",
    "\n",
    "\n",
    "\n"
   ]
  },
  {
   "cell_type": "markdown",
   "id": "fd2ed767-d93a-4e2e-9027-9b2c28413e24",
   "metadata": {},
   "source": [
    "## Fitting a linear model for the data:"
   ]
  },
  {
   "cell_type": "code",
   "execution_count": null,
   "id": "c6f89688-2ae4-418c-abc0-86c9f259ef74",
   "metadata": {},
   "outputs": [],
   "source": []
  }
 ],
 "metadata": {
  "kernelspec": {
   "display_name": "Python 3 (ipykernel)",
   "language": "python",
   "name": "python3"
  },
  "language_info": {
   "codemirror_mode": {
    "name": "ipython",
    "version": 3
   },
   "file_extension": ".py",
   "mimetype": "text/x-python",
   "name": "python",
   "nbconvert_exporter": "python",
   "pygments_lexer": "ipython3",
   "version": "3.12.7"
  }
 },
 "nbformat": 4,
 "nbformat_minor": 5
}
