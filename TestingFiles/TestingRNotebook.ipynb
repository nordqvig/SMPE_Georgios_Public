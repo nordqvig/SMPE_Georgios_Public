{
 "cells": [
  {
   "cell_type": "code",
   "execution_count": 5,
   "id": "82ccb28c-547a-4063-b36e-8aa824f1d780",
   "metadata": {},
   "outputs": [
    {
     "name": "stderr",
     "output_type": "stream",
     "text": [
      "/Users/georgios/Library/Python/3.9/lib/python/site-packages/rpy2/ipython/rmagic.py:85: UserWarning: The Python package `pandas` is strongly recommended when using `rpy2.ipython`. Unfortunately it could not be loaded, as we did not manage to load `numpy` in the first place (error: No module named 'numpy').\n",
      "  warnings.warn('The Python package `pandas` is strongly '\n"
     ]
    }
   ],
   "source": [
    "load_ext rpy2.ipython"
   ]
  },
  {
   "cell_type": "code",
   "execution_count": 6,
   "id": "47f5b64e-663b-47ab-a01c-7d6adac154ae",
   "metadata": {},
   "outputs": [],
   "source": [
    "%%R \n",
    "x = c(1, 2, 3)\n"
   ]
  },
  {
   "cell_type": "code",
   "execution_count": 3,
   "id": "fff20293-95b4-4f3d-b495-9123a860a6f1",
   "metadata": {},
   "outputs": [
    {
     "name": "stderr",
     "output_type": "stream",
     "text": [
      "UsageError: Cell magic `%%R` not found.\n"
     ]
    }
   ],
   "source": [
    "\n",
    "\n",
    "i <- i + 1\n",
    "i\n",
    "\n",
    "D = c(seq.int(from=2, to=10, by=3))\n",
    "\n",
    "names = c(a, b)\n",
    "\n",
    "\n",
    "for (name in names) {\n",
    "    print(name)\n",
    "    i <- i + 1\n",
    "}\n",
    "\n"
   ]
  },
  {
   "cell_type": "code",
   "execution_count": null,
   "id": "c55ca834-9a1a-4204-9b1f-58c8b51cc891",
   "metadata": {},
   "outputs": [],
   "source": [
    "%RR\n",
    "library(\"ggplot2\""
   ]
  }
 ],
 "metadata": {
  "kernelspec": {
   "display_name": "Python 3 (ipykernel)",
   "language": "python",
   "name": "python3"
  },
  "language_info": {
   "codemirror_mode": {
    "name": "ipython",
    "version": 3
   },
   "file_extension": ".py",
   "mimetype": "text/x-python",
   "name": "python",
   "nbconvert_exporter": "python",
   "pygments_lexer": "ipython3",
   "version": "3.9.6"
  }
 },
 "nbformat": 4,
 "nbformat_minor": 5
}
