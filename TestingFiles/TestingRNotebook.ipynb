{
 "cells": [
  {
   "metadata": {},
   "cell_type": "markdown",
   "source": [
    "\n",
    "# To open notebook:\n",
    "- in terminal, navigate to directory containing notebook\n",
    "- run command $python3 -m jupyterlab <notebook name>"
   ],
   "id": "6ac332dc2471d5e2"
  },
  {
   "cell_type": "code",
   "id": "47f5b64e-663b-47ab-a01c-7d6adac154ae",
   "metadata": {
    "ExecuteTime": {
     "end_time": "2024-11-07T09:33:12.396943Z",
     "start_time": "2024-11-07T09:33:12.363505Z"
    }
   },
   "source": [
    "load_ext rpy2.ipython\n",
    "%%R \n",
    "x = c(1, 2, 3)\n"
   ],
   "outputs": [],
   "execution_count": 7
  },
  {
   "cell_type": "code",
   "id": "fff20293-95b4-4f3d-b495-9123a860a6f1",
   "metadata": {
    "ExecuteTime": {
     "end_time": "2024-11-07T09:27:29.651269Z",
     "start_time": "2024-11-07T09:27:29.626809Z"
    }
   },
   "source": [
    "\n",
    "\n",
    "i <- i + 1\n",
    "i\n",
    "\n",
    "D = c(seq.int(from=2, to=10, by=3))\n",
    "\n",
    "names = c(a, b)\n",
    "\n",
    "\n",
    "for (name in names) {\n",
    "    print(name)\n",
    "    i <- i + 1\n",
    "}\n",
    "\n"
   ],
   "outputs": [
    {
     "ename": "SyntaxError",
     "evalue": "invalid syntax (1374729557.py, line 4)",
     "output_type": "error",
     "traceback": [
      "\u001B[0;36m  Cell \u001B[0;32mIn[3], line 4\u001B[0;36m\u001B[0m\n\u001B[0;31m    D = c(seq.int(from=2, to=10, by=3))\u001B[0m\n\u001B[0m                  ^\u001B[0m\n\u001B[0;31mSyntaxError\u001B[0m\u001B[0;31m:\u001B[0m invalid syntax\n"
     ]
    }
   ],
   "execution_count": 3
  },
  {
   "cell_type": "code",
   "execution_count": null,
   "id": "c55ca834-9a1a-4204-9b1f-58c8b51cc891",
   "metadata": {},
   "outputs": [],
   "source": [
    "%RR\n",
    "library(\"ggplot2\""
   ]
  }
 ],
 "metadata": {
  "kernelspec": {
   "display_name": "Python 3 (ipykernel)",
   "language": "python",
   "name": "python3"
  },
  "language_info": {
   "codemirror_mode": {
    "name": "ipython",
    "version": 3
   },
   "file_extension": ".py",
   "mimetype": "text/x-python",
   "name": "python",
   "nbconvert_exporter": "python",
   "pygments_lexer": "ipython3",
   "version": "3.9.6"
  }
 },
 "nbformat": 4,
 "nbformat_minor": 5
}
